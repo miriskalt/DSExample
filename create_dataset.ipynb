{
 "cells": [
  {
   "cell_type": "code",
   "execution_count": 4,
   "metadata": {},
   "outputs": [],
   "source": [
    "import pandas as pd\n",
    "import os"
   ]
  },
  {
   "cell_type": "markdown",
   "metadata": {},
   "source": [
    "# Load data sets"
   ]
  },
  {
   "cell_type": "code",
   "execution_count": 9,
   "metadata": {},
   "outputs": [],
   "source": [
    "dir_path = \"./data/Takeout/Fitbit/\""
   ]
  },
  {
   "cell_type": "code",
   "execution_count": 73,
   "metadata": {},
   "outputs": [],
   "source": [
    "sleep_score =  pd.read_csv(dir_path+'Sleep Score/sleep_score.csv')"
   ]
  },
  {
   "cell_type": "code",
   "execution_count": 74,
   "metadata": {},
   "outputs": [],
   "source": [
    "stress_score =  pd.read_csv(dir_path+'Stress Score/Stress Score.csv')\n"
   ]
  },
  {
   "cell_type": "code",
   "execution_count": 83,
   "metadata": {},
   "outputs": [],
   "source": [
    "filenames = ['Daily Readiness Score - 2023-12-01.csv', 'Daily Readiness Score - 2024-01-01.csv', 'Daily Readiness Score - 2024-02-01.csv']\n",
    "dfs = [pd.read_csv(dir_path+'Daily Readiness/' +filename) for filename in filenames]\n",
    "daily_readiness = pd.concat([dfs[i] for i in range(len(dfs))], ignore_index=True)\n"
   ]
  },
  {
   "cell_type": "code",
   "execution_count": 52,
   "metadata": {},
   "outputs": [],
   "source": [
    "filenames = ['Active Zone Minutes - 2023-12-01.csv', 'Active Zone Minutes - 2024-01-01.csv', 'Active Zone Minutes - 2024-02-01.csv']\n",
    "dfs = [pd.read_csv(dir_path+'Active Zone Minutes (AZM)/' +filename) for filename in filenames]\n",
    "activeZoneMinutes = pd.concat([dfs[i] for i in range(len(dfs))], ignore_index=True)\n"
   ]
  },
  {
   "cell_type": "code",
   "execution_count": 59,
   "metadata": {},
   "outputs": [],
   "source": [
    "filenames = ['steps-2023-11-30.json', 'steps-2023-12-30.json', 'steps-2024-01-29.json']\n",
    "dfs = [pd.read_json(dir_path+'Global Export Data/' +filename) for filename in filenames]\n",
    "steps = pd.concat([dfs[i] for i in range(len(dfs))], ignore_index=True)\n"
   ]
  },
  {
   "cell_type": "markdown",
   "metadata": {},
   "source": [
    "# Merge data sets"
   ]
  },
  {
   "cell_type": "markdown",
   "metadata": {},
   "source": [
    "### 1. get standardized date feature\n",
    "\n",
    "#### features per day:\n",
    "- sleep_score\n",
    "- stress_score\n",
    "- daily_readiness"
   ]
  },
  {
   "cell_type": "code",
   "execution_count": 115,
   "metadata": {},
   "outputs": [
    {
     "data": {
      "text/html": [
       "<div>\n",
       "<style scoped>\n",
       "    .dataframe tbody tr th:only-of-type {\n",
       "        vertical-align: middle;\n",
       "    }\n",
       "\n",
       "    .dataframe tbody tr th {\n",
       "        vertical-align: top;\n",
       "    }\n",
       "\n",
       "    .dataframe thead th {\n",
       "        text-align: right;\n",
       "    }\n",
       "</style>\n",
       "<table border=\"1\" class=\"dataframe\">\n",
       "  <thead>\n",
       "    <tr style=\"text-align: right;\">\n",
       "      <th></th>\n",
       "      <th>DATE</th>\n",
       "      <th>UPDATED_AT</th>\n",
       "      <th>STRESS_SCORE</th>\n",
       "      <th>SLEEP_POINTS</th>\n",
       "      <th>MAX_SLEEP_POINTS</th>\n",
       "      <th>RESPONSIVENESS_POINTS</th>\n",
       "      <th>MAX_RESPONSIVENESS_POINTS</th>\n",
       "      <th>EXERTION_POINTS</th>\n",
       "      <th>MAX_EXERTION_POINTS</th>\n",
       "      <th>STATUS</th>\n",
       "      <th>CALCULATION_FAILED</th>\n",
       "      <th>Date</th>\n",
       "    </tr>\n",
       "  </thead>\n",
       "  <tbody>\n",
       "    <tr>\n",
       "      <th>0</th>\n",
       "      <td>2023-12-02</td>\n",
       "      <td>2023-12-02T07:40:54.289</td>\n",
       "      <td>0</td>\n",
       "      <td>0</td>\n",
       "      <td>0</td>\n",
       "      <td>0</td>\n",
       "      <td>0</td>\n",
       "      <td>0</td>\n",
       "      <td>0</td>\n",
       "      <td>NO_DATA</td>\n",
       "      <td>True</td>\n",
       "      <td>2023-12-02</td>\n",
       "    </tr>\n",
       "    <tr>\n",
       "      <th>1</th>\n",
       "      <td>2023-12-03</td>\n",
       "      <td>2023-12-03T08:33:24.925</td>\n",
       "      <td>70</td>\n",
       "      <td>24</td>\n",
       "      <td>30</td>\n",
       "      <td>21</td>\n",
       "      <td>30</td>\n",
       "      <td>25</td>\n",
       "      <td>40</td>\n",
       "      <td>READY</td>\n",
       "      <td>False</td>\n",
       "      <td>2023-12-03</td>\n",
       "    </tr>\n",
       "    <tr>\n",
       "      <th>2</th>\n",
       "      <td>2023-12-04</td>\n",
       "      <td>2023-12-04T08:30:16.707</td>\n",
       "      <td>63</td>\n",
       "      <td>19</td>\n",
       "      <td>30</td>\n",
       "      <td>23</td>\n",
       "      <td>30</td>\n",
       "      <td>21</td>\n",
       "      <td>40</td>\n",
       "      <td>READY</td>\n",
       "      <td>False</td>\n",
       "      <td>2023-12-04</td>\n",
       "    </tr>\n",
       "    <tr>\n",
       "      <th>3</th>\n",
       "      <td>2023-12-05</td>\n",
       "      <td>2023-12-05T07:15:30.522</td>\n",
       "      <td>68</td>\n",
       "      <td>23</td>\n",
       "      <td>30</td>\n",
       "      <td>23</td>\n",
       "      <td>30</td>\n",
       "      <td>22</td>\n",
       "      <td>40</td>\n",
       "      <td>READY</td>\n",
       "      <td>False</td>\n",
       "      <td>2023-12-05</td>\n",
       "    </tr>\n",
       "    <tr>\n",
       "      <th>4</th>\n",
       "      <td>2023-12-06</td>\n",
       "      <td>2023-12-07T06:17:27.159</td>\n",
       "      <td>71</td>\n",
       "      <td>25</td>\n",
       "      <td>30</td>\n",
       "      <td>21</td>\n",
       "      <td>30</td>\n",
       "      <td>25</td>\n",
       "      <td>40</td>\n",
       "      <td>READY</td>\n",
       "      <td>False</td>\n",
       "      <td>2023-12-06</td>\n",
       "    </tr>\n",
       "  </tbody>\n",
       "</table>\n",
       "</div>"
      ],
      "text/plain": [
       "        DATE               UPDATED_AT  STRESS_SCORE  SLEEP_POINTS  \\\n",
       "0 2023-12-02  2023-12-02T07:40:54.289             0             0   \n",
       "1 2023-12-03  2023-12-03T08:33:24.925            70            24   \n",
       "2 2023-12-04  2023-12-04T08:30:16.707            63            19   \n",
       "3 2023-12-05  2023-12-05T07:15:30.522            68            23   \n",
       "4 2023-12-06  2023-12-07T06:17:27.159            71            25   \n",
       "\n",
       "   MAX_SLEEP_POINTS  RESPONSIVENESS_POINTS  MAX_RESPONSIVENESS_POINTS  \\\n",
       "0                 0                      0                          0   \n",
       "1                30                     21                         30   \n",
       "2                30                     23                         30   \n",
       "3                30                     23                         30   \n",
       "4                30                     21                         30   \n",
       "\n",
       "   EXERTION_POINTS  MAX_EXERTION_POINTS   STATUS  CALCULATION_FAILED  \\\n",
       "0                0                    0  NO_DATA                True   \n",
       "1               25                   40    READY               False   \n",
       "2               21                   40    READY               False   \n",
       "3               22                   40    READY               False   \n",
       "4               25                   40    READY               False   \n",
       "\n",
       "         Date  \n",
       "0  2023-12-02  \n",
       "1  2023-12-03  \n",
       "2  2023-12-04  \n",
       "3  2023-12-05  \n",
       "4  2023-12-06  "
      ]
     },
     "execution_count": 115,
     "metadata": {},
     "output_type": "execute_result"
    }
   ],
   "source": [
    "#sleep_score.head()\n",
    "stress_score.head()\n",
    "#daily_readiness.head()"
   ]
  },
  {
   "cell_type": "code",
   "execution_count": 102,
   "metadata": {},
   "outputs": [],
   "source": [
    "# make the date bee same for all three\n",
    "\n",
    "# sleep_score\n",
    "sleep_score.timestamp = pd.to_datetime(sleep_score.timestamp)\n",
    "sleep_score['Date'] = sleep_score.timestamp.apply(lambda x: x.strftime('%Y-%m-%d'))\n",
    "\n",
    "# stress_score\n",
    "stress_score.DATE = pd.to_datetime(stress_score.DATE)\n",
    "stress_score['Date'] = stress_score.DATE.apply(lambda x: x.strftime('%Y-%m-%d'))\n",
    "\n",
    "\n",
    "# readiness score\n",
    "daily_readiness.date = pd.to_datetime(daily_readiness.date)\n",
    "daily_readiness['Date'] = daily_readiness.date.apply(lambda x: x.strftime('%Y-%m-%d'))\n"
   ]
  },
  {
   "cell_type": "markdown",
   "metadata": {},
   "source": [
    "### 2. merge on standardized date"
   ]
  },
  {
   "cell_type": "code",
   "execution_count": 104,
   "metadata": {},
   "outputs": [],
   "source": [
    "df_days = pd.merge(sleep_score, stress_score, on='Date')"
   ]
  },
  {
   "cell_type": "code",
   "execution_count": 109,
   "metadata": {},
   "outputs": [],
   "source": [
    "df_days = pd.merge(df_days, daily_readiness, on='Date')"
   ]
  },
  {
   "cell_type": "code",
   "execution_count": 122,
   "metadata": {},
   "outputs": [
    {
     "data": {
      "text/plain": [
       "<matplotlib.legend.Legend at 0x7fcfcfb48940>"
      ]
     },
     "execution_count": 122,
     "metadata": {},
     "output_type": "execute_result"
    },
    {
     "data": {
      "image/png": "[encoded data removed]",
      "text/plain": [
       "<Figure size 432x288 with 1 Axes>"
      ]
     },
     "metadata": {
      "needs_background": "light"
     },
     "output_type": "display_data"
    }
   ],
   "source": [
    "plt.plot(df_days.Date, df_days.overall_score, label='sleep score')\n",
    "plt.plot(df_days.Date, df_days.readiness_score_value, label='readiness')\n",
    "plt.plot(df_days.Date, df_days.STRESS_SCORE, label='stress score')\n",
    "plt.legend()"
   ]
  },
  {
   "cell_type": "markdown",
   "metadata": {},
   "source": [
    "\n",
    "#### features per Hour/Minute\n",
    "- activeZoneMinutes\n",
    "- steps\n",
    "- temperature"
   ]
  },
  {
   "cell_type": "code",
   "execution_count": 123,
   "metadata": {},
   "outputs": [
    {
     "data": {
      "text/html": [
       "<div>\n",
       "<style scoped>\n",
       "    .dataframe tbody tr th:only-of-type {\n",
       "        vertical-align: middle;\n",
       "    }\n",
       "\n",
       "    .dataframe tbody tr th {\n",
       "        vertical-align: top;\n",
       "    }\n",
       "\n",
       "    .dataframe thead th {\n",
       "        text-align: right;\n",
       "    }\n",
       "</style>\n",
       "<table border=\"1\" class=\"dataframe\">\n",
       "  <thead>\n",
       "    <tr style=\"text-align: right;\">\n",
       "      <th></th>\n",
       "      <th>date_time</th>\n",
       "      <th>heart_zone_id</th>\n",
       "      <th>total_minutes</th>\n",
       "    </tr>\n",
       "  </thead>\n",
       "  <tbody>\n",
       "    <tr>\n",
       "      <th>0</th>\n",
       "      <td>2023-12-01T17:21</td>\n",
       "      <td>FAT_BURN</td>\n",
       "      <td>1</td>\n",
       "    </tr>\n",
       "    <tr>\n",
       "      <th>1</th>\n",
       "      <td>2023-12-01T17:22</td>\n",
       "      <td>FAT_BURN</td>\n",
       "      <td>1</td>\n",
       "    </tr>\n",
       "    <tr>\n",
       "      <th>2</th>\n",
       "      <td>2023-12-01T18:22</td>\n",
       "      <td>FAT_BURN</td>\n",
       "      <td>1</td>\n",
       "    </tr>\n",
       "    <tr>\n",
       "      <th>3</th>\n",
       "      <td>2023-12-01T18:23</td>\n",
       "      <td>FAT_BURN</td>\n",
       "      <td>1</td>\n",
       "    </tr>\n",
       "    <tr>\n",
       "      <th>4</th>\n",
       "      <td>2023-12-01T18:24</td>\n",
       "      <td>FAT_BURN</td>\n",
       "      <td>1</td>\n",
       "    </tr>\n",
       "  </tbody>\n",
       "</table>\n",
       "</div>"
      ],
      "text/plain": [
       "          date_time heart_zone_id  total_minutes\n",
       "0  2023-12-01T17:21      FAT_BURN              1\n",
       "1  2023-12-01T17:22      FAT_BURN              1\n",
       "2  2023-12-01T18:22      FAT_BURN              1\n",
       "3  2023-12-01T18:23      FAT_BURN              1\n",
       "4  2023-12-01T18:24      FAT_BURN              1"
      ]
     },
     "execution_count": 123,
     "metadata": {},
     "output_type": "execute_result"
    }
   ],
   "source": [
    "activeZoneMinutes.head()"
   ]
  },
  {
   "cell_type": "code",
   "execution_count": 124,
   "metadata": {},
   "outputs": [
    {
     "data": {
      "text/html": [
       "<div>\n",
       "<style scoped>\n",
       "    .dataframe tbody tr th:only-of-type {\n",
       "        vertical-align: middle;\n",
       "    }\n",
       "\n",
       "    .dataframe tbody tr th {\n",
       "        vertical-align: top;\n",
       "    }\n",
       "\n",
       "    .dataframe thead th {\n",
       "        text-align: right;\n",
       "    }\n",
       "</style>\n",
       "<table border=\"1\" class=\"dataframe\">\n",
       "  <thead>\n",
       "    <tr style=\"text-align: right;\">\n",
       "      <th></th>\n",
       "      <th>dateTime</th>\n",
       "      <th>value</th>\n",
       "    </tr>\n",
       "  </thead>\n",
       "  <tbody>\n",
       "    <tr>\n",
       "      <th>0</th>\n",
       "      <td>2023-12-01 15:26:00</td>\n",
       "      <td>0</td>\n",
       "    </tr>\n",
       "    <tr>\n",
       "      <th>1</th>\n",
       "      <td>2023-12-01 15:27:00</td>\n",
       "      <td>0</td>\n",
       "    </tr>\n",
       "    <tr>\n",
       "      <th>2</th>\n",
       "      <td>2023-12-01 15:28:00</td>\n",
       "      <td>0</td>\n",
       "    </tr>\n",
       "    <tr>\n",
       "      <th>3</th>\n",
       "      <td>2023-12-01 15:29:00</td>\n",
       "      <td>9</td>\n",
       "    </tr>\n",
       "    <tr>\n",
       "      <th>4</th>\n",
       "      <td>2023-12-01 15:30:00</td>\n",
       "      <td>0</td>\n",
       "    </tr>\n",
       "  </tbody>\n",
       "</table>\n",
       "</div>"
      ],
      "text/plain": [
       "             dateTime  value\n",
       "0 2023-12-01 15:26:00      0\n",
       "1 2023-12-01 15:27:00      0\n",
       "2 2023-12-01 15:28:00      0\n",
       "3 2023-12-01 15:29:00      9\n",
       "4 2023-12-01 15:30:00      0"
      ]
     },
     "execution_count": 124,
     "metadata": {},
     "output_type": "execute_result"
    }
   ],
   "source": [
    "steps.head()"
   ]
  },
  {
   "cell_type": "code",
   "execution_count": 125,
   "metadata": {},
   "outputs": [
    {
     "ename": "NameError",
     "evalue": "name 'temperature' is not defined",
     "output_type": "error",
     "traceback": [
      "\u001b[0;31m---------------------------------------------------------------------------\u001b[0m",
      "\u001b[0;31mNameError\u001b[0m                                 Traceback (most recent call last)",
      "Input \u001b[0;32mIn [125]\u001b[0m, in \u001b[0;36m<cell line: 1>\u001b[0;34m()\u001b[0m\n\u001b[0;32m----> 1\u001b[0m \u001b[43mtemperature\u001b[49m\u001b[38;5;241m.\u001b[39mhead()\n",
      "\u001b[0;31mNameError\u001b[0m: name 'temperature' is not defined"
     ]
    }
   ],
   "source": [
    "temperature.head()"
   ]
  }
 ],
 "metadata": {
  "kernelspec": {
   "display_name": "datascienceprojekt-eg3tto3V",
   "language": "python",
   "name": "python3"
  },
  "language_info": {
   "codemirror_mode": {
    "name": "ipython",
    "version": 3
   },
   "file_extension": ".py",
   "mimetype": "text/x-python",
   "name": "python",
   "nbconvert_exporter": "python",
   "pygments_lexer": "ipython3",
   "version": "3.10.12"
  }
 },
 "nbformat": 4,
 "nbformat_minor": 2
}
